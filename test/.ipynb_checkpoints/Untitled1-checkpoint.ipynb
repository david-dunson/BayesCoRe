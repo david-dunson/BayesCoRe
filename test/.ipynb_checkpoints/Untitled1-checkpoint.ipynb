{
 "cells": [
  {
   "cell_type": "code",
   "execution_count": 2,
   "metadata": {
    "collapsed": false
   },
   "outputs": [
    {
     "data": {
      "text/plain": [
       "10×10 Array{Float64,2}:\n",
       " 0.392475  0.389168  0.88603   0.617803  …  0.865591   0.460588   0.143358\n",
       " 0.646346  0.759482  0.345056  0.812033     0.970347   0.70494    0.151682\n",
       " 0.614057  0.67232   0.667852  0.693288     0.0415009  0.66266    0.956028\n",
       " 0.188955  0.772523  0.830783  0.357079     0.779677   0.885701   0.907856\n",
       " 0.851769  0.631317  0.132324  0.862984     0.139506   0.0649405  0.755294\n",
       " 0.631     0.349957  0.107029  0.987312  …  0.673938   0.826808   0.647933\n",
       " 0.460588  0.522147  0.68476   0.478759     0.605442   0.329162   0.195654\n",
       " 0.881825  0.264296  0.267519  0.747694     0.590303   0.475085   0.674249\n",
       " 0.342171  0.971595  0.425616  0.488288     0.94361    0.86076    0.439669\n",
       " 0.640522  0.620004  0.986768  0.71357      0.713837   0.812538   0.813796"
      ]
     },
     "execution_count": 2,
     "metadata": {},
     "output_type": "execute_result"
    }
   ],
   "source": [
    "using ArrayFire"
   ]
  },
  {
   "cell_type": "code",
   "execution_count": 3,
   "metadata": {
    "collapsed": false
   },
   "outputs": [
    {
     "ename": "LoadError",
     "evalue": "UndefVarError: AFArray not defined",
     "output_type": "error",
     "traceback": [
      "UndefVarError: AFArray not defined",
      ""
     ]
    }
   ],
   "source": [
    "a = rand(10, 10)\n",
    "ad = AFArray(a)"
   ]
  }
 ],
 "metadata": {
  "kernelspec": {
   "display_name": "Julia 0.5.0",
   "language": "julia",
   "name": "julia-0.5"
  },
  "language_info": {
   "file_extension": ".jl",
   "mimetype": "application/julia",
   "name": "julia",
   "version": "0.5.0"
  }
 },
 "nbformat": 4,
 "nbformat_minor": 2
}
