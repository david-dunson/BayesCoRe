{
 "cells": [
  {
   "cell_type": "code",
   "execution_count": 28,
   "metadata": {
    "collapsed": false
   },
   "outputs": [
    {
     "name": "stderr",
     "output_type": "stream",
     "text": [
      "\u001b[1m\u001b[34mINFO: Precompiling module StatsBase.\n",
      "\u001b[0m"
     ]
    }
   ],
   "source": [
    "using PyPlot\n",
    "using StatsBase"
   ]
  },
  {
   "cell_type": "code",
   "execution_count": 24,
   "metadata": {
    "collapsed": false
   },
   "outputs": [
    {
     "name": "stderr",
     "output_type": "stream",
     "text": [
      "WARNING: Method definition HMC_step(Any, Any) in module Main at In[15]:3"
     ]
    },
    {
     "data": {
      "text/plain": [
       "HMC_step (generic function with 2 methods)"
      ]
     },
     "execution_count": 24,
     "metadata": {},
     "output_type": "execute_result"
    },
    {
     "name": "stderr",
     "output_type": "stream",
     "text": [
      " overwritten at In[24]:3.\n",
      "WARNING: Method definition HMC_step(Any, Any, Any) in module Main at In[15]:3 overwritten at In[24]:3.\n"
     ]
    }
   ],
   "source": [
    "#HMC function: generate Exp(-lambda)\n",
    "function HMC_step(q0, lambda, t = 0.5)\n",
    "    p0 = randn(1)[1]\n",
    "    q1= lambda * t^2 /2 + p0*t +q0\n",
    "    q2 = \n",
    "    q1\n",
    "end"
   ]
  },
  {
   "cell_type": "code",
   "execution_count": 37,
   "metadata": {
    "collapsed": false
   },
   "outputs": [],
   "source": [
    "q = [1.0]\n",
    "for i=1:50000\n",
    "    append!(q,HMC_step(q[end],-1,0.1))\n",
    "end"
   ]
  },
  {
   "cell_type": "code",
   "execution_count": 40,
   "metadata": {
    "collapsed": false
   },
   "outputs": [
    {
     "data": {
      "text/plain": [
       "0.11241017212314743"
      ]
     },
     "execution_count": 40,
     "metadata": {},
     "output_type": "execute_result"
    }
   ],
   "source": [
    "# plt[:hist](q)\n",
    "mean(q)"
   ]
  },
  {
   "cell_type": "code",
   "execution_count": 39,
   "metadata": {
    "collapsed": false
   },
   "outputs": [
    {
     "data": {
      "image/png": "[encoded data removed]",
      "text/plain": [
       "PyPlot.Figure(PyObject <matplotlib.figure.Figure object at 0x00000000269489B0>)"
      ]
     },
     "metadata": {},
     "output_type": "display_data"
    },
    {
     "data": {
      "text/plain": [
       "1-element Array{Any,1}:\n",
       " PyObject <matplotlib.lines.Line2D object at 0x0000000026E1B668>"
      ]
     },
     "execution_count": 39,
     "metadata": {},
     "output_type": "execute_result"
    }
   ],
   "source": [
    "plt[:plot](autocor(q))"
   ]
  },
  {
   "cell_type": "code",
   "execution_count": 13,
   "metadata": {
    "collapsed": false
   },
   "outputs": [
    {
     "name": "stderr",
     "output_type": "stream",
     "text": [
      "\u001b[1m\u001b[34mINFO: Precompiling module Roots.\n",
      "\u001b[0m"
     ]
    }
   ],
   "source": [
    "using Roots"
   ]
  },
  {
   "cell_type": "code",
   "execution_count": 25,
   "metadata": {
    "collapsed": false
   },
   "outputs": [
    {
     "name": "stderr",
     "output_type": "stream",
     "text": [
      "WARNING: Method definition "
     ]
    },
    {
     "data": {
      "text/plain": [
       "f (generic function with 1 method)"
      ]
     },
     "execution_count": 25,
     "metadata": {},
     "output_type": "execute_result"
    },
    {
     "name": "stderr",
     "output_type": "stream",
     "text": [
      "f(Any) in module Main at In[17]:1 overwritten at In[25]:1.\n"
     ]
    }
   ],
   "source": [
    "f(x) = x^5 -x - 1"
   ]
  },
  {
   "cell_type": "code",
   "execution_count": 1,
   "metadata": {
    "collapsed": false
   },
   "outputs": [
    {
     "ename": "LoadError",
     "evalue": "ArgumentError: Module Distributions not found in current path.\nRun `Pkg.add(\"Distributions\")` to install the Distributions package.",
     "output_type": "error",
     "traceback": [
      "ArgumentError: Module Distributions not found in current path.\nRun `Pkg.add(\"Distributions\")` to install the Distributions package.",
      "",
      " in require(::Symbol) at .\\loading.jl:365"
     ]
    }
   ],
   "source": [
    "using Distributions\n",
    "using PyPlot"
   ]
  },
  {
   "cell_type": "code",
   "execution_count": 2,
   "metadata": {
    "collapsed": false
   },
   "outputs": [
    {
     "data": {
      "text/plain": [
       "MersenneTwister(UInt32[0x0000007b],Base.dSFMT.DSFMT_state(Int32[1464307935,1073116007,222134151,1073120226,-290652630,1072956456,-580276323,1073476387,1332671753,1073438661  …  138346874,1073030449,1049893279,1073166535,-1999907543,1597138926,-775229811,32947490,382,0]),[1.43077,1.45069,1.93232,1.01354,1.30829,1.89771,1.20732,1.35533,1.25414,1.49964  …  1.11198,1.82475,1.95292,1.8489,1.4564,1.13595,1.98404,1.95937,1.08312,1.82928],382)"
      ]
     },
     "execution_count": 2,
     "metadata": {},
     "output_type": "execute_result"
    }
   ],
   "source": [
    "srand(123)"
   ]
  },
  {
   "cell_type": "code",
   "execution_count": 33,
   "metadata": {
    "collapsed": false
   },
   "outputs": [
    {
     "data": {
      "text/plain": [
       "100"
      ]
     },
     "execution_count": 33,
     "metadata": {},
     "output_type": "execute_result"
    }
   ],
   "source": [
    "n1 = 100"
   ]
  },
  {
   "cell_type": "code",
   "execution_count": 34,
   "metadata": {
    "collapsed": false
   },
   "outputs": [
    {
     "data": {
      "text/plain": [
       "3-element Array{Int64,1}:\n",
       " 100\n",
       " 100\n",
       "   2"
      ]
     },
     "execution_count": 34,
     "metadata": {},
     "output_type": "execute_result"
    }
   ],
   "source": [
    "n = [n1,n1,2]"
   ]
  },
  {
   "cell_type": "code",
   "execution_count": 35,
   "metadata": {
    "collapsed": false
   },
   "outputs": [
    {
     "data": {
      "text/plain": [
       "2-element Array{Float64,1}:\n",
       " 0.5\n",
       " 0.5"
      ]
     },
     "execution_count": 35,
     "metadata": {},
     "output_type": "execute_result"
    }
   ],
   "source": [
    "alpha1 = repmat([1],n[1])\n",
    "alpha3 = repmat([0.5],n[3])"
   ]
  },
  {
   "cell_type": "code",
   "execution_count": 36,
   "metadata": {
    "collapsed": false
   },
   "outputs": [
    {
     "data": {
      "text/plain": [
       "Distributions.Dirichlet{Float64}(alpha=[0.5,0.5])"
      ]
     },
     "execution_count": 36,
     "metadata": {},
     "output_type": "execute_result"
    }
   ],
   "source": [
    "d1 = Dirichlet(alpha1)\n",
    "# d2 = Dirichlet(alpha2)\n",
    "d3 = Dirichlet(alpha3)"
   ]
  },
  {
   "cell_type": "code",
   "execution_count": 37,
   "metadata": {
    "collapsed": false
   },
   "outputs": [
    {
     "data": {
      "text/plain": [
       "1×1×2 Array{Float64,3}:\n",
       "[:, :, 1] =\n",
       " 0.879467\n",
       "\n",
       "[:, :, 2] =\n",
       " 0.120533"
      ]
     },
     "execution_count": 37,
     "metadata": {},
     "output_type": "execute_result"
    }
   ],
   "source": [
    "v1 = rand(d1)\n",
    "v2 = reshape(v1,1,n[1])\n",
    "v3 = reshape(rand(d3),1,1,n[3])"
   ]
  },
  {
   "cell_type": "code",
   "execution_count": 38,
   "metadata": {
    "collapsed": false
   },
   "outputs": [
    {
     "data": {
      "text/plain": [
       "100×100×2 Array{Float64,3}:\n",
       "[:, :, 1] =\n",
       " 0.000162466  3.85426e-5   6.50174e-5   …  0.000263517  9.8433e-5  \n",
       " 3.85426e-5   9.14368e-6   1.54244e-5      6.25156e-5   2.33518e-5 \n",
       " 6.50174e-5   1.54244e-5   2.60194e-5      0.000105457  3.93921e-5 \n",
       " 0.00017372   4.12125e-5   6.95211e-5      0.000281771  0.000105251\n",
       " 0.000590241  0.000140026  0.000236209     0.000957362  0.000357609\n",
       " 0.000297055  7.0472e-5    0.000118879  …  0.000481818  0.000179977\n",
       " 1.45409e-5   3.44961e-6   5.81913e-6      2.35851e-5   8.80988e-6 \n",
       " 7.01638e-5   1.66454e-5   2.8079e-5       0.000113805  4.25102e-5 \n",
       " 4.29508e-5   1.01895e-5   1.71886e-5      6.96656e-5   2.60226e-5 \n",
       " 0.000100576  2.38603e-5   4.02498e-5      0.000163133  6.09362e-5 \n",
       " 0.000237254  5.62852e-5   9.49472e-5   …  0.000384823  0.000143745\n",
       " 0.000103991  2.46705e-5   4.16165e-5      0.000168673  6.30053e-5 \n",
       " 5.37764e-5   1.27577e-5   2.15209e-5      8.72245e-5   3.25815e-5 \n",
       " ⋮                                      ⋱                          \n",
       " 1.17656e-5   2.79122e-6   4.7085e-6       1.90836e-5   7.12843e-6 \n",
       " 3.23946e-5   7.68514e-6   1.2964e-5       5.25435e-5   1.96269e-5 \n",
       " 6.38916e-5   1.51574e-5   2.55689e-5   …  0.000103631  3.871e-5   \n",
       " 3.04959e-5   7.23472e-6   1.22042e-5      4.94639e-5   1.84766e-5 \n",
       " 0.000109999  2.60956e-5   4.40205e-5      0.000178416  6.66449e-5 \n",
       " 0.000308445  7.3174e-5    0.000123437     0.000500292  0.000186877\n",
       " 4.01914e-5   9.53483e-6   1.60843e-5      6.51899e-5   2.43508e-5 \n",
       " 9.12616e-5   2.16505e-5   3.65221e-5   …  0.000148025  5.52926e-5 \n",
       " 0.000167909  3.98341e-5   6.71959e-5      0.000272346  0.000101731\n",
       " 0.000200769  4.76294e-5   8.03459e-5      0.000325644  0.00012164 \n",
       " 0.000263517  6.25156e-5   0.000105457     0.00042742   0.000159657\n",
       " 9.8433e-5    2.33518e-5   3.93921e-5      0.000159657  5.96376e-5 \n",
       "\n",
       "[:, :, 2] =\n",
       " 2.22663e-5  5.28235e-6  8.91077e-6  …  2.75158e-5  3.61156e-5   1.34905e-5\n",
       " 5.28235e-6  1.25316e-6  2.11395e-6     6.52772e-6  8.56789e-6   3.20042e-6\n",
       " 8.91077e-6  2.11395e-6  3.56602e-6     1.10116e-5  1.44531e-5   5.39877e-6\n",
       " 2.38086e-5  5.64826e-6  9.52802e-6     2.94218e-5  3.86173e-5   1.44249e-5\n",
       " 8.08938e-5  1.91909e-5  3.2373e-5      9.99653e-5  0.000131208  4.90111e-5\n",
       " 4.0712e-5   9.65834e-6  1.62926e-5  …  5.03103e-5  6.60343e-5   2.46662e-5\n",
       " 1.99286e-6  4.72777e-7  7.97525e-7     2.46269e-6  3.23238e-6   1.20741e-6\n",
       " 9.6161e-6   2.28128e-6  3.84828e-6     1.18832e-5  1.55972e-5   5.82611e-6\n",
       " 5.88651e-6  1.39649e-6  2.35573e-6     7.27431e-6  9.54783e-6   3.56646e-6\n",
       " 1.37842e-5  3.27011e-6  5.51633e-6     1.7034e-5   2.23578e-5   8.35145e-6\n",
       " 3.25162e-5  7.714e-6    1.30127e-5  …  4.01822e-5  5.27408e-5   1.97006e-5\n",
       " 1.42522e-5  3.38114e-6  5.70363e-6     1.76124e-5  2.31169e-5   8.63501e-6\n",
       " 7.37017e-6  1.74847e-6  2.94948e-6     9.10777e-6  1.19543e-5   4.46537e-6\n",
       " ⋮                                   ⋱                                     \n",
       " 1.6125e-6   3.82543e-7  6.4531e-7      1.99267e-6  2.61545e-6   9.76966e-7\n",
       " 4.43975e-6  1.05327e-6  1.77675e-6     5.48646e-6  7.2012e-6    2.68991e-6\n",
       " 8.75648e-6  2.07735e-6  3.50427e-6  …  1.08209e-5  1.42029e-5   5.30529e-6\n",
       " 4.17953e-6  9.91534e-7  1.67261e-6     5.1649e-6   6.77914e-6   2.53225e-6\n",
       " 1.50756e-5  3.57646e-6  6.03311e-6     1.86298e-5  2.44523e-5   9.13383e-6\n",
       " 4.2273e-5   1.00287e-5  1.69173e-5     5.22393e-5  6.85662e-5   2.56119e-5\n",
       " 5.50832e-6  1.30677e-6  2.20438e-6     6.80696e-6  8.93441e-6   3.33733e-6\n",
       " 1.25076e-5  2.96725e-6  5.00543e-6  …  1.54564e-5  2.02871e-5   7.57798e-6\n",
       " 2.30123e-5  5.45935e-6  9.20935e-6     2.84377e-5  3.73257e-5   1.39425e-5\n",
       " 2.75158e-5  6.52772e-6  1.10116e-5     3.40029e-5  4.46302e-5   1.6671e-5 \n",
       " 3.61156e-5  8.56789e-6  1.44531e-5     4.46302e-5  5.85789e-5   2.18813e-5\n",
       " 1.34905e-5  3.20042e-6  5.39877e-6     1.6671e-5   2.18813e-5   8.17347e-6"
      ]
     },
     "execution_count": 38,
     "metadata": {},
     "output_type": "execute_result"
    }
   ],
   "source": [
    "tensor =  v1 .* v2 .* v3"
   ]
  },
  {
   "cell_type": "code",
   "execution_count": 39,
   "metadata": {
    "collapsed": false
   },
   "outputs": [
    {
     "data": {
      "text/plain": [
       "100×2 Array{Float64,2}:\n",
       " 0.000162466  2.22663e-5\n",
       " 3.85426e-5   5.28235e-6\n",
       " 6.50174e-5   8.91077e-6\n",
       " 0.00017372   2.38086e-5\n",
       " 0.000590241  8.08938e-5\n",
       " 0.000297055  4.0712e-5 \n",
       " 1.45409e-5   1.99286e-6\n",
       " 7.01638e-5   9.6161e-6 \n",
       " 4.29508e-5   5.88651e-6\n",
       " 0.000100576  1.37842e-5\n",
       " 0.000237254  3.25162e-5\n",
       " 0.000103991  1.42522e-5\n",
       " 5.37764e-5   7.37017e-6\n",
       " ⋮                      \n",
       " 1.17656e-5   1.6125e-6 \n",
       " 3.23946e-5   4.43975e-6\n",
       " 6.38916e-5   8.75648e-6\n",
       " 3.04959e-5   4.17953e-6\n",
       " 0.000109999  1.50756e-5\n",
       " 0.000308445  4.2273e-5 \n",
       " 4.01914e-5   5.50832e-6\n",
       " 9.12616e-5   1.25076e-5\n",
       " 0.000167909  2.30123e-5\n",
       " 0.000200769  2.75158e-5\n",
       " 0.000263517  3.61156e-5\n",
       " 9.8433e-5    1.34905e-5"
      ]
     },
     "execution_count": 39,
     "metadata": {},
     "output_type": "execute_result"
    }
   ],
   "source": [
    "tensor[1,:,:]"
   ]
  },
  {
   "cell_type": "code",
   "execution_count": 40,
   "metadata": {
    "collapsed": false
   },
   "outputs": [
    {
     "data": {
      "image/png": "[encoded data removed]",
      "text/plain": [
       "PyPlot.Figure(PyObject <matplotlib.figure.Figure object at 0x3256b1e50>)"
      ]
     },
     "metadata": {},
     "output_type": "display_data"
    },
    {
     "data": {
      "text/plain": [
       "PyObject <matplotlib.image.AxesImage object at 0x32587ef90>"
      ]
     },
     "execution_count": 40,
     "metadata": {},
     "output_type": "execute_result"
    }
   ],
   "source": [
    "plt[:matshow](tensor[:,:,1])"
   ]
  }
 ],
 "metadata": {
  "kernelspec": {
   "display_name": "Julia 0.5.0",
   "language": "julia",
   "name": "julia-0.5"
  },
  "language_info": {
   "file_extension": ".jl",
   "mimetype": "application/julia",
   "name": "julia",
   "version": "0.5.0"
  }
 },
 "nbformat": 4,
 "nbformat_minor": 2
}
